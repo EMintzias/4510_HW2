{
 "cells": [
  {
   "cell_type": "markdown",
   "metadata": {},
   "source": [
    "HW2 testing bench  "
   ]
  },
  {
   "cell_type": "code",
   "execution_count": 3,
   "metadata": {},
   "outputs": [],
   "source": [
    "import numpy as np\n",
    "import heapq as h\n",
    "import seaborn as sns"
   ]
  },
  {
   "cell_type": "code",
   "execution_count": 28,
   "metadata": {},
   "outputs": [],
   "source": [
    "class Function_node:\n",
    "    def __init__(self, function_name, children=None, value=None):\n",
    "        self.function_name = function_name\n",
    "        self.children = children if children else []\n",
    "        self.value = value\n",
    "        \n",
    "    def __str__(self): #print statement\n",
    "        if  self.function_name in ['var','const']:\n",
    "            return f\"{self.value}\"\n",
    "        else:\n",
    "            return f\"{self.function_name}\"\n",
    "\n",
    "'''\n",
    "    def evaluate(self, x = None): #shall return the constant value of its children. If impossible you should evaluate children first. \n",
    "        if self.value is not None:\n",
    "            return self.value\n",
    "        if self.function_name == '+':\n",
    "            return self.children[0].evaluate(variables) + self.children[1].evaluate(variables)\n",
    "        elif self.function_name == '*':\n",
    "            return self.children[0].evaluate(variables) * self.children[1].evaluate(variables)\n",
    "        elif self.function_name == '/':\n",
    "            return self.children[0].evaluate(variables) * self.children[1].evaluate(variables)\n",
    "        elif self.function_name == 'cos':\n",
    "            return np.cos(self.children[0].evaluate(variables))\n",
    "        elif self.function_name == 'sin':\n",
    "            return np.sin(self.children[0].evaluate(variables))\n",
    "        elif self.function_name == 'var':\n",
    "            return x\n",
    "        elif self.function_name == 'const':\n",
    "            return self.value\n",
    "'''"
   ]
  },
  {
   "cell_type": "code",
   "execution_count": 5,
   "metadata": {},
   "outputs": [],
   "source": [
    "# https://github.com/swacad/numpy-heap/blob/master/heap.py\n",
    "\n",
    "class NP_Heap(Function_node): \n",
    "    def __init__(self,length = 2): \n",
    "        self.heap   = np.full(length,np.nan)\n",
    "        \n",
    "\n",
    "    def get_parent_idx(self, child_idx):\n",
    "        if child_idx % 2 == 0:\n",
    "            parent_idx = int(child_idx / 2 - 1)\n",
    "        else:\n",
    "            parent_idx = int(np.floor(child_idx / 2))\n",
    "        return parent_idx\n",
    "\n",
    "    def get_parent(self, child_idx):\n",
    "        parent_idx = self.get_parent_idx(child_idx)\n",
    "        return self.heap[parent_idx] \n",
    "    \n",
    "    def get_left_child_idx(self, parent_idx):\n",
    "        return 2 * parent_idx + 1\n",
    "\n",
    "    def get_right_child_idx(self, parent_idx):\n",
    "        return 2 * parent_idx + 2\n",
    "\n",
    "    def get_left_child(self, parent_idx):\n",
    "        left_child = self.heap[self.get_left_child_idx(parent_idx)]\n",
    "        return left_child\n",
    "\n",
    "    def get_right_child(self, parent_idx):\n",
    "        right_child = self.heap[self.get_right_child_idx(parent_idx)]\n",
    "        return right_child\n",
    "\n",
    "    def get_children_idx(self, parent_idx):\n",
    "        return 2 * parent_idx + 1, 2 * parent_idx + 2\n",
    "\n",
    "    def get_children(self, parent_idx):\n",
    "        child_1_idx, child_2_idx = self.get_parent_idx(parent_idx)\n",
    "        return self.heap[child_1_idx], self.heap[child_2_idx]\n",
    "    \n",
    "    def print_arr(self):\n",
    "        print(np.stack((np.arange(self.heap.size),self.heap)))\n",
    "        return None\n",
    "    \n",
    "    \n",
    "    \n",
    "    def insert(self,parent_indx, value):\n",
    "        # check for size availibility or resize\n",
    "        # insert child of parent if \n",
    "        \n",
    "        #check heap length to add to parent:\n",
    "        while self.heap.size < self.get_right_child_idx(parent_indx):\n",
    "            #print('doubled',self.heap.size ,self.get_right_child_idx(parent_indx)  )\n",
    "            self.heap = np.append(self.heap, np.full(self.heap.size, np.nan)) #doubles array in size with a string of\n",
    "            \n",
    "                \n",
    "        L,R = self.get_children_idx(parent_indx)\n",
    "\n",
    "        if np.isnan(self.heap[L]): \n",
    "            self.heap[L] = value\n",
    "        \n",
    "        elif np.isnan(self.heap[R]): \n",
    "            self.heap[R] = value\n",
    "            \n",
    "        else: #insert to the left child. \n",
    "            print('Parent children filled') #recursive and insert down?\n",
    "            #self.insert(self,parent_indx = L, value = value )\n",
    "        \n",
    "        return None\n"
   ]
  },
  {
   "cell_type": "code",
   "execution_count": 30,
   "metadata": {},
   "outputs": [
    {
     "name": "stdout",
     "output_type": "stream",
     "text": [
      "None\n"
     ]
    }
   ],
   "source": [
    "ww = Function_node('mult')\n",
    "children = [2,3]\n",
    "ww.children = children\n",
    "\n",
    "rslt = ww.evaluate()\n",
    "print(rslt)\n"
   ]
  },
  {
   "cell_type": "code",
   "execution_count": 55,
   "metadata": {},
   "outputs": [
    {
     "ename": "TypeError",
     "evalue": "float() argument must be a string or a real number, not 'Function_node'",
     "output_type": "error",
     "traceback": [
      "\u001b[1;31m---------------------------------------------------------------------------\u001b[0m",
      "\u001b[1;31mTypeError\u001b[0m                                 Traceback (most recent call last)",
      "\u001b[1;32mc:\\Users\\eduar\\OneDrive\\Documents\\FALL 2023\\MECS4510 EVOLUTIONARY COMPUTATION&DESIGN AUTOMATI\\4510_HW2\\HW2_notebook.ipynb Cell 5\u001b[0m line \u001b[0;36m2\n\u001b[0;32m      <a href='vscode-notebook-cell:/c%3A/Users/eduar/OneDrive/Documents/FALL%202023/MECS4510%20EVOLUTIONARY%20COMPUTATION%26DESIGN%20AUTOMATI/4510_HW2/HW2_notebook.ipynb#X10sZmlsZQ%3D%3D?line=0'>1</a>\u001b[0m hh \u001b[39m=\u001b[39m NP_Heap(length \u001b[39m=\u001b[39m \u001b[39m2\u001b[39m)\n\u001b[1;32m----> <a href='vscode-notebook-cell:/c%3A/Users/eduar/OneDrive/Documents/FALL%202023/MECS4510%20EVOLUTIONARY%20COMPUTATION%26DESIGN%20AUTOMATI/4510_HW2/HW2_notebook.ipynb#X10sZmlsZQ%3D%3D?line=1'>2</a>\u001b[0m hh\u001b[39m.\u001b[39mheap[\u001b[39m0\u001b[39m] \u001b[39m=\u001b[39m Function_node(\u001b[39m'\u001b[39m\u001b[39mmult\u001b[39m\u001b[39m'\u001b[39m)\n\u001b[0;32m      <a href='vscode-notebook-cell:/c%3A/Users/eduar/OneDrive/Documents/FALL%202023/MECS4510%20EVOLUTIONARY%20COMPUTATION%26DESIGN%20AUTOMATI/4510_HW2/HW2_notebook.ipynb#X10sZmlsZQ%3D%3D?line=2'>3</a>\u001b[0m hh\u001b[39m.\u001b[39minsert(parent_indx \u001b[39m=\u001b[39m \u001b[39m0\u001b[39m,value \u001b[39m=\u001b[39m Function_node(\u001b[39m'\u001b[39m\u001b[39mmult\u001b[39m\u001b[39m'\u001b[39m))\n\u001b[0;32m      <a href='vscode-notebook-cell:/c%3A/Users/eduar/OneDrive/Documents/FALL%202023/MECS4510%20EVOLUTIONARY%20COMPUTATION%26DESIGN%20AUTOMATI/4510_HW2/HW2_notebook.ipynb#X10sZmlsZQ%3D%3D?line=3'>4</a>\u001b[0m hh\u001b[39m.\u001b[39minsert(parent_indx \u001b[39m=\u001b[39m \u001b[39m1\u001b[39m,value \u001b[39m=\u001b[39m Function_node(\u001b[39m'\u001b[39m\u001b[39mmult\u001b[39m\u001b[39m'\u001b[39m))\n",
      "\u001b[1;31mTypeError\u001b[0m: float() argument must be a string or a real number, not 'Function_node'"
     ]
    }
   ],
   "source": [
    "hh = NP_Heap(length = 2)\n",
    "hh.heap[0] = Function_node('mult')\n",
    "hh.insert(parent_indx = 0,value = Function_node('mult'))\n",
    "hh.insert(parent_indx = 1,value = Function_node('mult'))\n",
    "\n",
    "hh.print_arr()\n"
   ]
  },
  {
   "cell_type": "code",
   "execution_count": 24,
   "metadata": {},
   "outputs": [
    {
     "name": "stdout",
     "output_type": "stream",
     "text": [
      "[nan nan nan] <class '__main__.Function_node'>\n",
      "function name mult\n",
      "mult\n"
     ]
    }
   ],
   "source": [
    "a2  = np.full(3,np.nan).astype(Function_node)\n",
    "nde = Function_node('mult')\n",
    "print(a2, type(nde))\n",
    "a2[0] = Function_node('mult')\n",
    "print(a2[0])"
   ]
  }
 ],
 "metadata": {
  "kernelspec": {
   "display_name": "ML",
   "language": "python",
   "name": "python3"
  },
  "language_info": {
   "codemirror_mode": {
    "name": "ipython",
    "version": 3
   },
   "file_extension": ".py",
   "mimetype": "text/x-python",
   "name": "python",
   "nbconvert_exporter": "python",
   "pygments_lexer": "ipython3",
   "version": "3.11.4"
  },
  "orig_nbformat": 4
 },
 "nbformat": 4,
 "nbformat_minor": 2
}
