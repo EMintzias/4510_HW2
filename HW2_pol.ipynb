{
 "cells": [
  {
   "cell_type": "markdown",
   "id": "56f71b0d",
   "metadata": {},
   "source": [
    "**Symbolic Regression**"
   ]
  },
  {
   "cell_type": "markdown",
   "id": "ba2acea4",
   "metadata": {},
   "source": [
    "____________"
   ]
  },
  {
   "cell_type": "code",
   "execution_count": 834,
   "id": "d7d79009",
   "metadata": {},
   "outputs": [],
   "source": [
    "import numpy as np\n",
    "import random\n",
    "import heapq as h\n",
    "import math\n",
    "import matplotlib.pyplot as plt\n",
    "import seaborn as sns"
   ]
  },
  {
   "cell_type": "code",
   "execution_count": 852,
   "id": "35de1473",
   "metadata": {},
   "outputs": [],
   "source": [
    "class Node:\n",
    "    # initalize Function_node with name, children\n",
    "    def __init__(self, function_name, value=None):\n",
    "        self.num_childs = 0\n",
    "        self.function_name = function_name\n",
    "        if self.function_name == 'const':\n",
    "            if value == None:\n",
    "                self.value = 0\n",
    "            else:\n",
    "                self.value = value\n",
    "        if self.function_name in ['*', '+', '-', '^']:\n",
    "            self.req_num_childs = 2\n",
    "        else:\n",
    "            self.req_num_childs = 0\n",
    "    \n",
    "    def add_child_count(self):\n",
    "        self.num_childs += 1\n",
    "    \n",
    "    def can_add_child(self):\n",
    "        if self.num_childs < self.req_num_childs:\n",
    "            return True\n",
    "        else:\n",
    "            return False\n",
    "\n",
    "    def __str__(self):\n",
    "        if  self.function_name in ['const']:\n",
    "            return f\"{self.value}\"\n",
    "        else:\n",
    "            return f\"{self.function_name}\""
   ]
  },
  {
   "cell_type": "code",
   "execution_count": 948,
   "id": "fb18338f",
   "metadata": {},
   "outputs": [],
   "source": [
    "class Heap(Node):\n",
    "    \n",
    "    def __init__(self, length = 1):\n",
    "        self.heap   = np.full(length, None, dtype=object)\n",
    "        self.operator = ['*', '+', '-', '^']\n",
    "        self.non_operator = ['x', 'const']\n",
    "    \n",
    "    \n",
    "    \n",
    "    def get_parent_idx(self, child_idx):\n",
    "        return (child_idx-1) // 2\n",
    "\n",
    "    def get_parent(self, child_idx):\n",
    "        parent_idx = self.get_parent_idx(child_idx)\n",
    "        return self.heap[parent_idx] \n",
    "    \n",
    "    def get_left_child_idx(self, parent_idx):\n",
    "        return 2 * parent_idx + 1\n",
    "\n",
    "    def get_right_child_idx(self, parent_idx):\n",
    "        return 2 * parent_idx + 2\n",
    "\n",
    "    def get_left_child(self, parent_idx):\n",
    "        left_child = self.heap[self.get_left_child_idx(parent_idx)]\n",
    "        return left_child\n",
    "\n",
    "    def get_right_child(self, parent_idx):\n",
    "        right_child = self.heap[self.get_right_child_idx(parent_idx)]\n",
    "        return right_child\n",
    "\n",
    "    def get_children_idx(self, parent_idx):\n",
    "        return 2 * parent_idx + 1, 2 * parent_idx + 2\n",
    "    \n",
    "    def get_children(self, parent_idx):\n",
    "        child_1_idx, child_2_idx = self.get_children_idx(parent_idx)\n",
    "        return self.heap[child_1_idx], self.heap[child_2_idx]\n",
    "    \n",
    "    def get_children_type(self, parent_idx):\n",
    "        L, R = self.get_children(parent_idx)\n",
    "        return type(L), type(R)\n",
    "    \n",
    "    \n",
    "    \n",
    "    \n",
    "    # EVALUATE A NODE\n",
    "    def evaluate(self, node_ind = 0, X = None): # tree root = 0\n",
    "        \n",
    "        # Evaluates a node given its index\n",
    "        def node_operation(operator, operand):\n",
    "            # limit exponent value to avoid errors\n",
    "            MAX_EXPONENT = 10\n",
    "            if operator == '^':\n",
    "                if abs(operand[1]) > MAX_EXPONENT:\n",
    "                    operand = (operand[0], MAX_EXPONENT if operand[1] > 0 else -MAX_EXPONENT)\n",
    "                return operand[0] ** operand[1]\n",
    "            elif operator == '*':   return  operand[0] * operand[1]\n",
    "            elif operator == '+':   return  operand[0] + operand[1]\n",
    "            elif operator == '-':   return  operand[0] - operand[1]\n",
    "        \n",
    "        # MAIN LOOP\n",
    "        L_child, R_child = self.get_children(node_ind)\n",
    "        L_indx, R_indx   = self.get_children_idx(node_ind)\n",
    "        children_types   = self.get_children_type(node_ind)\n",
    "        \n",
    "        \n",
    "        #TODO: deal with NAN child if non trig or dual nan for operator leaf\n",
    "\n",
    "        #CHECKS left child\n",
    "        # If an operator, evaluate recursively returning a constant\n",
    "        # If X, assign it\n",
    "        if type(L_child) is None: # how to check for nan... dont ask why just go with it \n",
    "                #print(\"fuck yes\")\n",
    "                pass   \n",
    "        elif L_child.function_name in self.operator:\n",
    "            L_child.value = self.evaluate(node_ind = 2*node_ind + 1, X = X)\n",
    "            #L_child.function_name = 'const'\n",
    "            \n",
    "        elif L_child.function_name == 'x':\n",
    "            L_child.value = X\n",
    "            #L_child.function_name = 'const'\n",
    "        \n",
    "        \n",
    "        #TODO why the fuck is checking for nan = false same for right child: datatype issue, lesson: use None next time. \n",
    "        if type(R_child) is None: # dont ask why just go with it \n",
    "                #print(\"fuck yes\")\n",
    "                pass                       \n",
    "        elif R_child.function_name in self.operator: \n",
    "            R_child.value = self.evaluate(node_ind = 2*node_ind + 2, X = X)\n",
    "            #R_child.function_name = 'const' \n",
    "        elif R_child.function_name == 'x':\n",
    "            R_child.value = X\n",
    "            #R_child.function_name = 'const'\n",
    "        \n",
    "        \n",
    "        # terminating state: both children are constandts (floats) or Nan (with at least a constant) after being evaluated\n",
    "        node_operator = self.heap[node_ind].function_name\n",
    "        try: \n",
    "            if Node not in children_types: \n",
    "                raise TypeError(f\"Invalid children type for operator: {node_operator} \\n\\t L/R children are: {(L_child, R_child)}\")\n",
    "               \n",
    "            #elif node_operator in self.trig_operators: # i.e its sin, cos, tan etc (as defined above\n",
    "                \n",
    "            #    if float not in children_types:\n",
    "            #        raise ValueError(f\"Invalid children type for operator: {node_operator} \\n\\t L/R children are: {(L_child, R_child)}\")\n",
    "            #    elif not type(L_child) == float: \n",
    "            #        node_val = node_operation(node_operator,L_child.value)\n",
    "            #    elif R_child:\n",
    "            #        node_val = node_operation(node_operator,R_child.value)\n",
    "            \n",
    "            else:\n",
    "                node_val = node_operation(node_operator,(L_child.value, R_child.value))\n",
    "                \n",
    "        except ValueError as err_msg: \n",
    "            sys.exit()\n",
    "        \n",
    "        \n",
    "        \n",
    "        #DIAGNOSTIC\n",
    "        msg_out = (\n",
    "            f\"at the root evaluating with:\\n\\t - parent node index {node_ind}\"\n",
    "                f\"\\n\\t - operator {node_operator}\"\n",
    "                f\"\\n\\t - with children {[str(x) for x in self.heap[[L_indx, R_indx]]]}\"\n",
    "            f\"\\n result passed {node_val}\"\n",
    "                )\n",
    "        #print(msg_out)\n",
    "        return node_val\n",
    "    \n",
    "    \n",
    "    #TODO: Test the below (not run)\n",
    "    def MSE(self, point_cloud, plotting = False): \n",
    "        #RECALL: MSE = (1/n) * Σ(actual – forecast) ^2\n",
    "        X_arr  = point_cloud[:,0]\n",
    "        y      = point_cloud[:,1]\n",
    "        y_pred = np.array([self.evaluate(X = x) for x in X_arr])\n",
    "        MSE = np.sum(np.square(y_pred-y)/y.shape[0]) #np.mean((y_pred - y) ** 2)\n",
    "        \n",
    "        if plotting: \n",
    "            self.plot_approximation(X_arr,y_pred, y_true = y)\n",
    "            \n",
    "        return abs(np.real(MSE))\n",
    "    \n",
    "    \n",
    "    \n",
    "    \n",
    "    def get_depth(self):\n",
    "        return int(math.floor(math.log2(len(self.heap) + 1)))-1\n",
    "    \n",
    "    def has_root(self):\n",
    "        if self.heap[0] == None:\n",
    "            return False\n",
    "        else:\n",
    "            return True\n",
    "    \n",
    "    def add_root(self, new_node):\n",
    "        self.heap[0] = new_node\n",
    "    \n",
    "    def add_child(self, parent_idx, new_node):\n",
    "        #print(\"trying to add child for {}\".format(parent_idx))\n",
    "        # Check if parent can add child\n",
    "        # True if can_add_child\n",
    "        if self.heap[parent_idx].can_add_child():\n",
    "            # Keep track of added child in node\n",
    "            self.heap[parent_idx].add_child_count()\n",
    "            # Get child number [either 1 or 2 since we're adding above]\n",
    "            child_num = self.heap[parent_idx].num_childs\n",
    "            # Check if we can add child\n",
    "            if 2*parent_idx+child_num < len(self.heap):\n",
    "                self.heap[2*parent_idx+child_num] = new_node\n",
    "            # Resize if needed\n",
    "            else:\n",
    "                prev_n = len(self.heap)\n",
    "                prev_heap = self.heap\n",
    "                # Create new heap that is 'full' to depth where new child will be\n",
    "                self.heap = np.full(2**(math.floor(math.log2(2*parent_idx+child_num + 1))+1)-1, None, dtype=object)\n",
    "                self.heap[:prev_n] = prev_heap\n",
    "                self.heap[2*parent_idx+child_num] = new_node\n",
    "        # Can't add child\n",
    "        else:\n",
    "            # What to do here?\n",
    "            #print(\"can't add child\")\n",
    "            pass\n",
    "        \n",
    "        \n",
    "    def randomize_heap(self, parent_idx=0):\n",
    "        # Check if heap has root\n",
    "        if self.has_root() == False:\n",
    "            # Add operator rood node if not\n",
    "            # ******* WILL MAYBE WANT TO CHANGE ********\n",
    "            self.add_root(Node(random.choice(self.operator)))\n",
    "        \n",
    "        #print(\"...\")\n",
    "        #print(\"Depth:{}\\nTree: \\n{}\".format(self.get_depth(), self.__str__()))\n",
    "        \n",
    "        \n",
    "        # Kepp adding subtrees up to depth = 2\n",
    "        if self.get_depth() < 2:\n",
    "            # Add random nodes until sub tree is full\n",
    "            while self.heap[parent_idx].can_add_child():\n",
    "                # 50/50 chance of adding operator vs operand\n",
    "                # ******* WILL MAYBE WANT TO CHANGE ********\n",
    "                typ = random.choice(self.non_operator) if random.randint(0,1) < 1 else random.choice(self.operator)\n",
    "                self.add_child(parent_idx, Node(typ, value = random.uniform(-10,10) if typ == 'const' else None))\n",
    "        \n",
    "        \n",
    "            # Recursively add random subtrees for all children\n",
    "            # If subtree is a non_operator it will not loop as num_childs = 0\n",
    "            for i in range(self.heap[parent_idx].num_childs):\n",
    "                self.randomize_heap(2*parent_idx + (i+1))\n",
    "        \n",
    "        # Make sure all operators have required number of operands\n",
    "        # Thus max depth of tree = 3\n",
    "        else:\n",
    "            # Add random operands for all children that require them\n",
    "            while self.heap[parent_idx].can_add_child():\n",
    "                typ = random.choice(self.non_operator)\n",
    "                self.add_child(parent_idx, Node(typ, value = random.uniform(0,5) if typ == 'const' else None))\n",
    "    \n",
    "    \n",
    "    \n",
    "    # GPT-4\n",
    "    def print_heap_tree(self, index=0, prefix=\"\", is_left=True):\n",
    "        output = \"\"\n",
    "        if index < len(self.heap) and self.heap[index] is not None:\n",
    "            # Process right child first (going down)\n",
    "            output += self.print_heap_tree(index=2*index+2, prefix=prefix + (\"|   \" if is_left else \"    \"), is_left=False)\n",
    "            # Add the current node to the output\n",
    "            output += prefix + \"|-- \" + str(self.heap[index]) + \"\\n\"\n",
    "            # Process left child\n",
    "            output += self.print_heap_tree(index=2*index+1, prefix=prefix + (\"|   \" if not is_left else \"    \"), is_left=True)\n",
    "        # else:\n",
    "            # Indicate the absence of a node with [...]\n",
    "            # output += prefix + \"|-- [...]\\n\"\n",
    "        return output\n",
    "\n",
    "    def __str__(self):\n",
    "        return self.print_heap_tree()\n"
   ]
  },
  {
   "cell_type": "code",
   "execution_count": 943,
   "id": "f18f5543",
   "metadata": {},
   "outputs": [
    {
     "name": "stdout",
     "output_type": "stream",
     "text": [
      "-------------\n",
      "3\n",
      "|       |-- 0.6246758412697284\n",
      "|   |-- ^\n",
      "|   |   |-- 2.125983861068304\n",
      "|-- *\n",
      "    |   |-- -6.444220006534849\n",
      "    |-- *\n",
      "        |   |-- 4.357127709914206\n",
      "        |-- ^\n",
      "            |-- 2.430770887226654\n",
      "\n"
     ]
    }
   ],
   "source": [
    "rand_h = Heap()\n",
    "rand_h.randomize_heap()\n",
    "\n",
    "print(\"-------------\")\n",
    "\n",
    "print(rand_h.get_depth())\n",
    "print(rand_h)"
   ]
  },
  {
   "cell_type": "code",
   "execution_count": 945,
   "id": "5521f98b",
   "metadata": {},
   "outputs": [
    {
     "data": {
      "text/plain": [
       "240484.59555610796"
      ]
     },
     "execution_count": 945,
     "metadata": {},
     "output_type": "execute_result"
    }
   ],
   "source": [
    "rand_h.MSE(point_cloud=np.array([x_arr, y_arr]).T)"
   ]
  },
  {
   "cell_type": "code",
   "execution_count": 964,
   "id": "a2ea48ae",
   "metadata": {},
   "outputs": [],
   "source": [
    "# OPEN DATA FILE FOR X VALUES\n",
    "x_list = []\n",
    "y_list = []\n",
    "with open('Bronze.txt', 'r') as file:\n",
    "    for line in file:\n",
    "        x, y = map(float, line.strip().strip('()').split(','))\n",
    "        x_list.append(x)\n",
    "        y_list.append(y)\n",
    "x_arr = np.array(x_list)\n",
    "y_arr = np.array(y_list)"
   ]
  },
  {
   "cell_type": "code",
   "execution_count": 1017,
   "id": "ae8c95fc",
   "metadata": {},
   "outputs": [
    {
     "name": "stderr",
     "output_type": "stream",
     "text": [
      "<ipython-input-948-a256486afc4d>:55: RuntimeWarning: invalid value encountered in double_scalars\n",
      "  return operand[0] ** operand[1]\n",
      "<ipython-input-948-a256486afc4d>:55: RuntimeWarning: divide by zero encountered in double_scalars\n",
      "  return operand[0] ** operand[1]\n",
      "<ipython-input-948-a256486afc4d>:55: RuntimeWarning: overflow encountered in double_scalars\n",
      "  return operand[0] ** operand[1]\n",
      "<ipython-input-948-a256486afc4d>:135: RuntimeWarning: overflow encountered in square\n",
      "  MSE = np.sum(np.square(y_pred-y)/y.shape[0]) #np.mean((y_pred - y) ** 2)\n",
      "<ipython-input-948-a256486afc4d>:56: RuntimeWarning: invalid value encountered in double_scalars\n",
      "  elif operator == '*':   return  operand[0] * operand[1]\n"
     ]
    },
    {
     "ename": "TypeError",
     "evalue": "'>' not supported between instances of 'complex' and 'int'",
     "output_type": "error",
     "traceback": [
      "\u001b[0;31m---------------------------------------------------------------------------\u001b[0m",
      "\u001b[0;31mTypeError\u001b[0m                                 Traceback (most recent call last)",
      "\u001b[0;32m<ipython-input-1017-536be1ae5fdb>\u001b[0m in \u001b[0;36m<module>\u001b[0;34m\u001b[0m\n\u001b[1;32m     17\u001b[0m             \u001b[0mh\u001b[0m \u001b[0;34m=\u001b[0m \u001b[0mHeap\u001b[0m\u001b[0;34m(\u001b[0m\u001b[0;34m)\u001b[0m\u001b[0;34m\u001b[0m\u001b[0;34m\u001b[0m\u001b[0m\n\u001b[1;32m     18\u001b[0m             \u001b[0mh\u001b[0m\u001b[0;34m.\u001b[0m\u001b[0mrandomize_heap\u001b[0m\u001b[0;34m(\u001b[0m\u001b[0;34m)\u001b[0m\u001b[0;34m\u001b[0m\u001b[0;34m\u001b[0m\u001b[0m\n\u001b[0;32m---> 19\u001b[0;31m             \u001b[0mmse\u001b[0m \u001b[0;34m=\u001b[0m \u001b[0mh\u001b[0m\u001b[0;34m.\u001b[0m\u001b[0mMSE\u001b[0m\u001b[0;34m(\u001b[0m\u001b[0mpoint_cloud\u001b[0m\u001b[0;34m=\u001b[0m\u001b[0mnp\u001b[0m\u001b[0;34m.\u001b[0m\u001b[0marray\u001b[0m\u001b[0;34m(\u001b[0m\u001b[0;34m[\u001b[0m\u001b[0mx_arr\u001b[0m\u001b[0;34m,\u001b[0m \u001b[0my_arr\u001b[0m\u001b[0;34m]\u001b[0m\u001b[0;34m)\u001b[0m\u001b[0;34m.\u001b[0m\u001b[0mT\u001b[0m\u001b[0;34m)\u001b[0m\u001b[0;34m\u001b[0m\u001b[0;34m\u001b[0m\u001b[0m\n\u001b[0m\u001b[1;32m     20\u001b[0m             \u001b[0;32mif\u001b[0m \u001b[0mmse\u001b[0m \u001b[0;34m<\u001b[0m \u001b[0mcurrent_best_mse\u001b[0m\u001b[0;34m:\u001b[0m\u001b[0;34m\u001b[0m\u001b[0;34m\u001b[0m\u001b[0m\n\u001b[1;32m     21\u001b[0m                 \u001b[0mcurrent_best_mse\u001b[0m \u001b[0;34m=\u001b[0m \u001b[0mmse\u001b[0m\u001b[0;34m\u001b[0m\u001b[0;34m\u001b[0m\u001b[0m\n",
      "\u001b[0;32m<ipython-input-948-a256486afc4d>\u001b[0m in \u001b[0;36mMSE\u001b[0;34m(self, point_cloud, plotting)\u001b[0m\n\u001b[1;32m    132\u001b[0m         \u001b[0mX_arr\u001b[0m  \u001b[0;34m=\u001b[0m \u001b[0mpoint_cloud\u001b[0m\u001b[0;34m[\u001b[0m\u001b[0;34m:\u001b[0m\u001b[0;34m,\u001b[0m\u001b[0;36m0\u001b[0m\u001b[0;34m]\u001b[0m\u001b[0;34m\u001b[0m\u001b[0;34m\u001b[0m\u001b[0m\n\u001b[1;32m    133\u001b[0m         \u001b[0my\u001b[0m      \u001b[0;34m=\u001b[0m \u001b[0mpoint_cloud\u001b[0m\u001b[0;34m[\u001b[0m\u001b[0;34m:\u001b[0m\u001b[0;34m,\u001b[0m\u001b[0;36m1\u001b[0m\u001b[0;34m]\u001b[0m\u001b[0;34m\u001b[0m\u001b[0;34m\u001b[0m\u001b[0m\n\u001b[0;32m--> 134\u001b[0;31m         \u001b[0my_pred\u001b[0m \u001b[0;34m=\u001b[0m \u001b[0mnp\u001b[0m\u001b[0;34m.\u001b[0m\u001b[0marray\u001b[0m\u001b[0;34m(\u001b[0m\u001b[0;34m[\u001b[0m\u001b[0mself\u001b[0m\u001b[0;34m.\u001b[0m\u001b[0mevaluate\u001b[0m\u001b[0;34m(\u001b[0m\u001b[0mX\u001b[0m \u001b[0;34m=\u001b[0m \u001b[0mx\u001b[0m\u001b[0;34m)\u001b[0m \u001b[0;32mfor\u001b[0m \u001b[0mx\u001b[0m \u001b[0;32min\u001b[0m \u001b[0mX_arr\u001b[0m\u001b[0;34m]\u001b[0m\u001b[0;34m)\u001b[0m\u001b[0;34m\u001b[0m\u001b[0;34m\u001b[0m\u001b[0m\n\u001b[0m\u001b[1;32m    135\u001b[0m         \u001b[0mMSE\u001b[0m \u001b[0;34m=\u001b[0m \u001b[0mnp\u001b[0m\u001b[0;34m.\u001b[0m\u001b[0msum\u001b[0m\u001b[0;34m(\u001b[0m\u001b[0mnp\u001b[0m\u001b[0;34m.\u001b[0m\u001b[0msquare\u001b[0m\u001b[0;34m(\u001b[0m\u001b[0my_pred\u001b[0m\u001b[0;34m-\u001b[0m\u001b[0my\u001b[0m\u001b[0;34m)\u001b[0m\u001b[0;34m/\u001b[0m\u001b[0my\u001b[0m\u001b[0;34m.\u001b[0m\u001b[0mshape\u001b[0m\u001b[0;34m[\u001b[0m\u001b[0;36m0\u001b[0m\u001b[0;34m]\u001b[0m\u001b[0;34m)\u001b[0m \u001b[0;31m#np.mean((y_pred - y) ** 2)\u001b[0m\u001b[0;34m\u001b[0m\u001b[0;34m\u001b[0m\u001b[0m\n\u001b[1;32m    136\u001b[0m \u001b[0;34m\u001b[0m\u001b[0m\n",
      "\u001b[0;32m<ipython-input-948-a256486afc4d>\u001b[0m in \u001b[0;36m<listcomp>\u001b[0;34m(.0)\u001b[0m\n\u001b[1;32m    132\u001b[0m         \u001b[0mX_arr\u001b[0m  \u001b[0;34m=\u001b[0m \u001b[0mpoint_cloud\u001b[0m\u001b[0;34m[\u001b[0m\u001b[0;34m:\u001b[0m\u001b[0;34m,\u001b[0m\u001b[0;36m0\u001b[0m\u001b[0;34m]\u001b[0m\u001b[0;34m\u001b[0m\u001b[0;34m\u001b[0m\u001b[0m\n\u001b[1;32m    133\u001b[0m         \u001b[0my\u001b[0m      \u001b[0;34m=\u001b[0m \u001b[0mpoint_cloud\u001b[0m\u001b[0;34m[\u001b[0m\u001b[0;34m:\u001b[0m\u001b[0;34m,\u001b[0m\u001b[0;36m1\u001b[0m\u001b[0;34m]\u001b[0m\u001b[0;34m\u001b[0m\u001b[0;34m\u001b[0m\u001b[0m\n\u001b[0;32m--> 134\u001b[0;31m         \u001b[0my_pred\u001b[0m \u001b[0;34m=\u001b[0m \u001b[0mnp\u001b[0m\u001b[0;34m.\u001b[0m\u001b[0marray\u001b[0m\u001b[0;34m(\u001b[0m\u001b[0;34m[\u001b[0m\u001b[0mself\u001b[0m\u001b[0;34m.\u001b[0m\u001b[0mevaluate\u001b[0m\u001b[0;34m(\u001b[0m\u001b[0mX\u001b[0m \u001b[0;34m=\u001b[0m \u001b[0mx\u001b[0m\u001b[0;34m)\u001b[0m \u001b[0;32mfor\u001b[0m \u001b[0mx\u001b[0m \u001b[0;32min\u001b[0m \u001b[0mX_arr\u001b[0m\u001b[0;34m]\u001b[0m\u001b[0;34m)\u001b[0m\u001b[0;34m\u001b[0m\u001b[0;34m\u001b[0m\u001b[0m\n\u001b[0m\u001b[1;32m    135\u001b[0m         \u001b[0mMSE\u001b[0m \u001b[0;34m=\u001b[0m \u001b[0mnp\u001b[0m\u001b[0;34m.\u001b[0m\u001b[0msum\u001b[0m\u001b[0;34m(\u001b[0m\u001b[0mnp\u001b[0m\u001b[0;34m.\u001b[0m\u001b[0msquare\u001b[0m\u001b[0;34m(\u001b[0m\u001b[0my_pred\u001b[0m\u001b[0;34m-\u001b[0m\u001b[0my\u001b[0m\u001b[0;34m)\u001b[0m\u001b[0;34m/\u001b[0m\u001b[0my\u001b[0m\u001b[0;34m.\u001b[0m\u001b[0mshape\u001b[0m\u001b[0;34m[\u001b[0m\u001b[0;36m0\u001b[0m\u001b[0;34m]\u001b[0m\u001b[0;34m)\u001b[0m \u001b[0;31m#np.mean((y_pred - y) ** 2)\u001b[0m\u001b[0;34m\u001b[0m\u001b[0;34m\u001b[0m\u001b[0m\n\u001b[1;32m    136\u001b[0m \u001b[0;34m\u001b[0m\u001b[0m\n",
      "\u001b[0;32m<ipython-input-948-a256486afc4d>\u001b[0m in \u001b[0;36mevaluate\u001b[0;34m(self, node_ind, X)\u001b[0m\n\u001b[1;32m    109\u001b[0m \u001b[0;34m\u001b[0m\u001b[0m\n\u001b[1;32m    110\u001b[0m             \u001b[0;32melse\u001b[0m\u001b[0;34m:\u001b[0m\u001b[0;34m\u001b[0m\u001b[0;34m\u001b[0m\u001b[0m\n\u001b[0;32m--> 111\u001b[0;31m                 \u001b[0mnode_val\u001b[0m \u001b[0;34m=\u001b[0m \u001b[0mnode_operation\u001b[0m\u001b[0;34m(\u001b[0m\u001b[0mnode_operator\u001b[0m\u001b[0;34m,\u001b[0m\u001b[0;34m(\u001b[0m\u001b[0mL_child\u001b[0m\u001b[0;34m.\u001b[0m\u001b[0mvalue\u001b[0m\u001b[0;34m,\u001b[0m \u001b[0mR_child\u001b[0m\u001b[0;34m.\u001b[0m\u001b[0mvalue\u001b[0m\u001b[0;34m)\u001b[0m\u001b[0;34m)\u001b[0m\u001b[0;34m\u001b[0m\u001b[0;34m\u001b[0m\u001b[0m\n\u001b[0m\u001b[1;32m    112\u001b[0m \u001b[0;34m\u001b[0m\u001b[0m\n\u001b[1;32m    113\u001b[0m         \u001b[0;32mexcept\u001b[0m \u001b[0mValueError\u001b[0m \u001b[0;32mas\u001b[0m \u001b[0merr_msg\u001b[0m\u001b[0;34m:\u001b[0m\u001b[0;34m\u001b[0m\u001b[0;34m\u001b[0m\u001b[0m\n",
      "\u001b[0;32m<ipython-input-948-a256486afc4d>\u001b[0m in \u001b[0;36mnode_operation\u001b[0;34m(operator, operand)\u001b[0m\n\u001b[1;32m     52\u001b[0m             \u001b[0;32mif\u001b[0m \u001b[0moperator\u001b[0m \u001b[0;34m==\u001b[0m \u001b[0;34m'^'\u001b[0m\u001b[0;34m:\u001b[0m\u001b[0;34m\u001b[0m\u001b[0;34m\u001b[0m\u001b[0m\n\u001b[1;32m     53\u001b[0m                 \u001b[0;32mif\u001b[0m \u001b[0mabs\u001b[0m\u001b[0;34m(\u001b[0m\u001b[0moperand\u001b[0m\u001b[0;34m[\u001b[0m\u001b[0;36m1\u001b[0m\u001b[0;34m]\u001b[0m\u001b[0;34m)\u001b[0m \u001b[0;34m>\u001b[0m \u001b[0mMAX_EXPONENT\u001b[0m\u001b[0;34m:\u001b[0m\u001b[0;34m\u001b[0m\u001b[0;34m\u001b[0m\u001b[0m\n\u001b[0;32m---> 54\u001b[0;31m                     \u001b[0moperand\u001b[0m \u001b[0;34m=\u001b[0m \u001b[0;34m(\u001b[0m\u001b[0moperand\u001b[0m\u001b[0;34m[\u001b[0m\u001b[0;36m0\u001b[0m\u001b[0;34m]\u001b[0m\u001b[0;34m,\u001b[0m \u001b[0mMAX_EXPONENT\u001b[0m \u001b[0;32mif\u001b[0m \u001b[0moperand\u001b[0m\u001b[0;34m[\u001b[0m\u001b[0;36m1\u001b[0m\u001b[0;34m]\u001b[0m \u001b[0;34m>\u001b[0m \u001b[0;36m0\u001b[0m \u001b[0;32melse\u001b[0m \u001b[0;34m-\u001b[0m\u001b[0mMAX_EXPONENT\u001b[0m\u001b[0;34m)\u001b[0m\u001b[0;34m\u001b[0m\u001b[0;34m\u001b[0m\u001b[0m\n\u001b[0m\u001b[1;32m     55\u001b[0m                 \u001b[0;32mreturn\u001b[0m \u001b[0moperand\u001b[0m\u001b[0;34m[\u001b[0m\u001b[0;36m0\u001b[0m\u001b[0;34m]\u001b[0m \u001b[0;34m**\u001b[0m \u001b[0moperand\u001b[0m\u001b[0;34m[\u001b[0m\u001b[0;36m1\u001b[0m\u001b[0;34m]\u001b[0m\u001b[0;34m\u001b[0m\u001b[0;34m\u001b[0m\u001b[0m\n\u001b[1;32m     56\u001b[0m             \u001b[0;32melif\u001b[0m \u001b[0moperator\u001b[0m \u001b[0;34m==\u001b[0m \u001b[0;34m'*'\u001b[0m\u001b[0;34m:\u001b[0m   \u001b[0;32mreturn\u001b[0m  \u001b[0moperand\u001b[0m\u001b[0;34m[\u001b[0m\u001b[0;36m0\u001b[0m\u001b[0;34m]\u001b[0m \u001b[0;34m*\u001b[0m \u001b[0moperand\u001b[0m\u001b[0;34m[\u001b[0m\u001b[0;36m1\u001b[0m\u001b[0;34m]\u001b[0m\u001b[0;34m\u001b[0m\u001b[0;34m\u001b[0m\u001b[0m\n",
      "\u001b[0;31mTypeError\u001b[0m: '>' not supported between instances of 'complex' and 'int'"
     ]
    }
   ],
   "source": [
    "# for 100 generations\n",
    "# for a population of 10 random heaps\n",
    "# evaluate heap\n",
    "# keep track of best performing one\n",
    "tests = 5\n",
    "evaluations = 100\n",
    "population = 10\n",
    "\n",
    "best_heaps_list = np.full((tests,evaluations), None, dtype=object)\n",
    "best_mse =  np.full((tests,evaluations), None, dtype=float)\n",
    "\n",
    "for i in range(tests):\n",
    "    for j in range(evaluations):\n",
    "        current_best_heap = None\n",
    "        current_best_mse = np.inf\n",
    "        for k in range(population):\n",
    "            h = Heap()\n",
    "            h.randomize_heap()\n",
    "            mse = h.MSE(point_cloud=np.array([x_arr, y_arr]).T)\n",
    "            if mse < current_best_mse:\n",
    "                current_best_mse = mse\n",
    "                current_best_heap = h\n",
    "        best_heaps_list[i][j] = current_best_heap\n",
    "        best_mse[i][j] = current_best_mse"
   ]
  },
  {
   "cell_type": "code",
   "execution_count": 990,
   "id": "4b23857c",
   "metadata": {},
   "outputs": [],
   "source": [
    "best_mse_each_test = []\n",
    "for i in range(tests):\n",
    "    best_mse_each_test.append(best_mse[i][np.argmin(best_mse[i])])\n",
    "\n",
    "ii = int(np.where(best_mse == best_mse_each_test[np.argmin(best_mse_each_test)])[0])\n",
    "jj = int(np.where(best_mse == best_mse_each_test[np.argmin(best_mse_each_test)])[1])"
   ]
  },
  {
   "cell_type": "code",
   "execution_count": 992,
   "id": "a314e065",
   "metadata": {},
   "outputs": [
    {
     "name": "stdout",
     "output_type": "stream",
     "text": [
      "|           |-- 4.390785345295507\n",
      "|       |-- +\n",
      "|       |   |-- 1.502583711783393\n",
      "|   |-- -\n",
      "|   |   |   |-- x\n",
      "|   |   |-- *\n",
      "|   |       |-- 0.7412895676624537\n",
      "|-- *\n",
      "    |-- x\n",
      "\n",
      "22.04385886138507\n"
     ]
    }
   ],
   "source": [
    "print(best_heaps_list[ii][jj])\n",
    "print(best_mse[ii][jj])"
   ]
  },
  {
   "cell_type": "code",
   "execution_count": 993,
   "id": "dab36eb7",
   "metadata": {},
   "outputs": [],
   "source": [
    "# GENERATE DATA FOR OUR RANDOM HEAP\n",
    "y_list = []\n",
    "for i in range(len(x_arr)):\n",
    "    y_list.append(best_heaps_list[ii][jj].evaluate(X=x_arr[i]))\n",
    "y_heap = np.array(y_list)"
   ]
  },
  {
   "cell_type": "code",
   "execution_count": 1019,
   "id": "b3216b85",
   "metadata": {},
   "outputs": [
    {
     "data": {
      "image/png": "[encoded data removed]",
      "text/plain": [
       "<Figure size 720x720 with 1 Axes>"
      ]
     },
     "metadata": {
      "needs_background": "light"
     },
     "output_type": "display_data"
    },
    {
     "name": "stdout",
     "output_type": "stream",
     "text": [
      "MSE: 22.043858861385065\n"
     ]
    }
   ],
   "source": [
    "# PLOT SYMBOLIC REGRESSION\n",
    "\n",
    "plt.figure(figsize=(10, 10))\n",
    "plt.xlim(-1, 11)\n",
    "plt.plot(x_arr, y_arr, '-', label='Bronze.txt', color='blue')\n",
    "plt.plot(x_arr, y_heap, '-', label='Random Search', color='#3CB371')\n",
    "plt.title(\"Symbolic Regression for 'Bronze.txt'\")\n",
    "plt.xlabel('X')\n",
    "plt.ylabel('Y')\n",
    "plt.legend()\n",
    "plt.grid(True)\n",
    "plt.savefig('Random_Search_Symbolic_Reg.pdf', dpi=300)\n",
    "plt.show()\n",
    "\n",
    "mse1 = np.mean((y_heap - y_arr) ** 2)\n",
    "\n",
    "print('MSE: {}'.format(mse1))"
   ]
  },
  {
   "cell_type": "code",
   "execution_count": 1007,
   "id": "c76b5468",
   "metadata": {},
   "outputs": [],
   "source": [
    "x_learning_curv = np.full((tests,evaluations), None, dtype=float)\n",
    "y_learning_curv = np.full((tests,evaluations), None, dtype=float)\n",
    "\n",
    "for i in range(tests):\n",
    "    best_mse_now = np.inf\n",
    "    for j in range(evaluations):\n",
    "        if best_mse[i][j] < best_mse_now:\n",
    "            best_mse_now = best_mse[i][j]\n",
    "        y_learning_curv[i][j] = best_mse_now\n",
    "        x_learning_curv[i][j] = j"
   ]
  },
  {
   "cell_type": "code",
   "execution_count": 1009,
   "id": "e6b6631a",
   "metadata": {},
   "outputs": [
    {
     "data": {
      "text/plain": [
       "array([ 7.36331413, 21.69541343, 20.27174175, 18.11091003, 16.33811057,\n",
       "       16.21501566, 16.21501566, 16.21501566, 16.18237909, 15.97433349])"
      ]
     },
     "execution_count": 1009,
     "metadata": {},
     "output_type": "execute_result"
    }
   ],
   "source": [
    "np.std(np.array(y_learning_curv), axis=0) / np.sqrt(np.array(y_learning_curv).shape[0])"
   ]
  },
  {
   "cell_type": "code",
   "execution_count": 1012,
   "id": "072edffa",
   "metadata": {},
   "outputs": [],
   "source": [
    "x_learning_curve = np.mean(np.array(x_learning_curv), axis=0)\n",
    "y_learning_curve = np.mean(np.array(y_learning_curv),axis=0)\n",
    "errors = np.std(np.array(y_learning_curv), axis=0) / np.sqrt(np.array(y_learning_curv).shape[0])\n",
    "x_err = []\n",
    "y_err = []\n",
    "err = []\n",
    "for i in range(evaluations):\n",
    "    if i % (evaluations/5) == 0 and i != 0:\n",
    "        x_err.append(i)\n",
    "        y_err.append(y_learning_curve[i])\n",
    "        err.append(errors[i])"
   ]
  },
  {
   "cell_type": "code",
   "execution_count": 1016,
   "id": "bb5e4a38",
   "metadata": {},
   "outputs": [
    {
     "data": {
      "image/png": "[encoded data removed]",
      "text/plain": [
       "<Figure size 720x720 with 1 Axes>"
      ]
     },
     "metadata": {
      "needs_background": "light"
     },
     "output_type": "display_data"
    }
   ],
   "source": [
    "# PLOT LEARNING CURVE\n",
    "\n",
    "plt.figure(figsize=(10, 10))\n",
    "plt.plot(x_learning_curve, y_learning_curve, '-', label='Random Search', color='#3CB371')\n",
    "plt.errorbar(x_err, y_err, yerr=err, color='#3CB371', fmt='o', capsize=5, markersize=4)\n",
    "plt.title(\"Random Search Learning Curve for 'Bronze.txt' (population: {}; tests: {})\".format(population, tests))\n",
    "plt.xlabel('Evaluations')\n",
    "plt.ylabel('MSE')\n",
    "plt.legend()\n",
    "plt.grid(True)\n",
    "plt.savefig('Random_Search_Learning.pdf', dpi=300)\n",
    "plt.show()"
   ]
  },
  {
   "cell_type": "code",
   "execution_count": null,
   "id": "e11ec84e",
   "metadata": {},
   "outputs": [],
   "source": []
  },
  {
   "cell_type": "code",
   "execution_count": null,
   "id": "f8712545",
   "metadata": {},
   "outputs": [],
   "source": []
  },
  {
   "cell_type": "code",
   "execution_count": null,
   "id": "f381bcd9",
   "metadata": {},
   "outputs": [],
   "source": []
  },
  {
   "cell_type": "code",
   "execution_count": 787,
   "id": "bde2d8a4",
   "metadata": {},
   "outputs": [],
   "source": [
    "# OPEN DATA FILE FOR X VALUES\n",
    "x_list = []\n",
    "with open('Bronze.txt', 'r') as file:\n",
    "    for line in file:\n",
    "        x, y = map(float, line.strip().strip('()').split(','))\n",
    "        x_list.append(x)\n",
    "x_arr = np.array(x_list)\n",
    "        \n",
    "# GENERATE DATA FOR RANDOM AFFINE FUNCTION (y = 0.5x - 3)\n",
    "y_list = []\n",
    "\n",
    "m = 0.5 #random.uniform(0,3)\n",
    "b = 3 #random.uniform(0,3)\n",
    "sign = -1 #random.choice([1, -1])\n",
    "y = lambda x: m*x + sign*b\n",
    "for i in range(len(x_arr)):\n",
    "    y_list.append(y(x_arr[i]))\n",
    "y_arr = np.array(y_list)"
   ]
  },
  {
   "cell_type": "code",
   "execution_count": 793,
   "id": "59d776f8",
   "metadata": {},
   "outputs": [
    {
     "name": "stdout",
     "output_type": "stream",
     "text": [
      "|   |-- 3.510642671544808\n",
      "|-- -\n",
      "    |   |-- 0.7506122776473545\n",
      "    |-- *\n",
      "        |-- x\n",
      "\n"
     ]
    }
   ],
   "source": [
    "# for 100 generations\n",
    "# for a population of 10 random heaps\n",
    "# evaluate heap\n",
    "# keep track of best performing one\n",
    "\n",
    "evaluations = 100\n",
    "population = 10\n",
    "\n",
    "best_heaps_list = np.full(evaluations, None, dtype=object)\n",
    "best_mse = []\n",
    "\n",
    "for i in range(evaluations):\n",
    "    current_best_heap = None\n",
    "    current_best_mse = np.inf\n",
    "    for j in range(population):\n",
    "        h = Heap()\n",
    "        h.randomize_heap()\n",
    "        mse = h.MSE(point_cloud=np.array([x_arr, y_arr]).T)\n",
    "        if mse < current_best_mse:\n",
    "            current_best_mse = mse\n",
    "            current_best_heap = h\n",
    "    best_heaps_list[i] = current_best_heap\n",
    "    best_mse.append(current_best_mse)\n",
    "\n",
    "print(best_heaps_list[np.argmin(best_mse)])"
   ]
  },
  {
   "cell_type": "code",
   "execution_count": 794,
   "id": "1d187343",
   "metadata": {},
   "outputs": [
    {
     "data": {
      "image/png": "[encoded data removed]",
      "text/plain": [
       "<Figure size 720x720 with 1 Axes>"
      ]
     },
     "metadata": {
      "needs_background": "light"
     },
     "output_type": "display_data"
    },
    {
     "name": "stdout",
     "output_type": "stream",
     "text": [
      "MSE: 1.075620992367308\n"
     ]
    }
   ],
   "source": [
    "# GENERATE DATA FOR OUR RANDOM HEAP\n",
    "y_list = []\n",
    "for i in range(len(x_arr)):\n",
    "    y_list.append(best_heaps_list[np.argmin(best_mse)].evaluate(X=x_arr[i]))\n",
    "y_heap = np.array(y_list)\n",
    "\n",
    "\n",
    "# Plotting the line graph\n",
    "plt.figure(figsize=(10, 10))\n",
    "plt.xlim(0, 10)\n",
    "plt.ylim(-5, 5)\n",
    "plt.plot(x_arr, y_rand, '-', label='Random Affine', color='blue')\n",
    "plt.plot(x_arr, y_heap, '-', label='Heap Function', color='red')\n",
    "plt.title('Random Affine: y = {:.2g}x {} {:.2g}'.format(m, '+' if sign > 0 else '-', b))\n",
    "plt.xlabel('X')\n",
    "plt.ylabel('Y')\n",
    "plt.legend()\n",
    "plt.grid(True)\n",
    "plt.show()\n",
    "\n",
    "print('MSE: {}'.format(best_mse[np.argmin(best_mse)]))"
   ]
  },
  {
   "cell_type": "code",
   "execution_count": 759,
   "id": "3f5d3641",
   "metadata": {},
   "outputs": [
    {
     "name": "stdout",
     "output_type": "stream",
     "text": [
      "...\n",
      "Depth:0\n",
      "Tree: \n",
      "|-- +\n",
      "\n",
      "...\n",
      "Depth:1\n",
      "Tree: \n",
      "|   |-- x\n",
      "|-- +\n",
      "    |-- x\n",
      "\n",
      "...\n",
      "Depth:1\n",
      "Tree: \n",
      "|   |-- x\n",
      "|-- +\n",
      "    |-- x\n",
      "\n",
      "-------------\n",
      "1\n",
      "|   |-- x\n",
      "|-- +\n",
      "    |-- x\n",
      "\n"
     ]
    }
   ],
   "source": [
    "rand_h = Heap()\n",
    "rand_h.randomize_heap()\n",
    "\n",
    "print(\"-------------\")\n",
    "\n",
    "print(rand_h.get_depth())\n",
    "print(rand_h)"
   ]
  },
  {
   "cell_type": "code",
   "execution_count": 664,
   "id": "6d4b0913",
   "metadata": {},
   "outputs": [
    {
     "data": {
      "text/plain": [
       "115.58473960513469"
      ]
     },
     "execution_count": 664,
     "metadata": {},
     "output_type": "execute_result"
    }
   ],
   "source": [
    "rand_h.evaluate(0, 5)"
   ]
  },
  {
   "cell_type": "code",
   "execution_count": 211,
   "id": "1f59ce2c",
   "metadata": {},
   "outputs": [],
   "source": [
    "# Node can be one of the following:\n",
    "# ['*', '+', '-', 'x', 'const']\n",
    "\n",
    "# '*' has 2 children\n",
    "# '+' has 2 children\n",
    "# '-' has 2 children\n",
    "# 'x' has 0 children\n",
    "# 'const' has a value & 0 children"
   ]
  },
  {
   "cell_type": "code",
   "execution_count": 760,
   "id": "77cec2f4",
   "metadata": {},
   "outputs": [
    {
     "data": {
      "image/png": "[encoded data removed]",
      "text/plain": [
       "<Figure size 720x720 with 1 Axes>"
      ]
     },
     "metadata": {
      "needs_background": "light"
     },
     "output_type": "display_data"
    },
    {
     "name": "stdout",
     "output_type": "stream",
     "text": [
      "MSE: 129.0375376876879, 129.03753768768786\n"
     ]
    }
   ],
   "source": [
    "# OPEN DATA FILE FOR X VALUES\n",
    "x_list = []\n",
    "with open('Bronze.txt', 'r') as file:\n",
    "    for line in file:\n",
    "        x, y = map(float, line.strip().strip('()').split(','))\n",
    "        x_list.append(x)\n",
    "x_arr = np.array(x_list)\n",
    "        \n",
    "# GENERATE DATA FOR RANDOM AFFINE FUNCTION (y = 0.5x - 3)\n",
    "y_list = []\n",
    "\n",
    "m = 0.5 #random.uniform(0,3)\n",
    "b = 3 #random.uniform(0,3)\n",
    "sign = -1 #random.choice([1, -1])\n",
    "y = lambda x: m*x + sign*b\n",
    "for i in range(len(x_arr)):\n",
    "    y_list.append(y(x_arr[i]))\n",
    "y_rand = np.array(y_list)\n",
    "\n",
    "\n",
    "# GENERATE DATA FOR OUR RANDOM HEAP\n",
    "y_list = []\n",
    "for i in range(len(x_arr)):\n",
    "    y_list.append(rand_h.evaluate(X=x_arr[i]))\n",
    "y_heap = np.array(y_list)\n",
    "\n",
    "\n",
    "# Plotting the line graph\n",
    "plt.figure(figsize=(10, 10))\n",
    "plt.xlim(0, 10)\n",
    "plt.ylim(-5, 5)\n",
    "plt.plot(x_arr, y_rand, '-', label='Random Affine', color='blue')\n",
    "plt.plot(x_arr, y_heap, '-', label='Heap Function', color='red')\n",
    "plt.title('Random Affine: y = {:.2g}x {} {:.2g}'.format(m, '+' if sign > 0 else '-', b))\n",
    "plt.xlabel('X')\n",
    "plt.ylabel('Y')\n",
    "plt.legend()\n",
    "plt.grid(True)\n",
    "plt.show()\n",
    "\n",
    "mse1 = np.sum(np.square(y_heap-y_rand)/y_rand.shape[0])\n",
    "mse2 = np.mean((y_heap - y_rand) ** 2)\n",
    "\n",
    "print('MSE: {}, {}'.format(mse1, mse2))"
   ]
  },
  {
   "cell_type": "code",
   "execution_count": null,
   "id": "0d5d7d6b",
   "metadata": {},
   "outputs": [],
   "source": []
  },
  {
   "cell_type": "code",
   "execution_count": null,
   "id": "e403a823",
   "metadata": {},
   "outputs": [],
   "source": []
  },
  {
   "cell_type": "code",
   "execution_count": null,
   "id": "c6129614",
   "metadata": {},
   "outputs": [],
   "source": []
  },
  {
   "cell_type": "code",
   "execution_count": null,
   "id": "6858d201",
   "metadata": {},
   "outputs": [],
   "source": []
  },
  {
   "cell_type": "code",
   "execution_count": 78,
   "id": "3aa72f22",
   "metadata": {},
   "outputs": [],
   "source": [
    "# LOAD HW2 BRONZE DATA\n",
    "# Initialize lists to store x and y values\n",
    "x_list = []\n",
    "y_list = []\n",
    "\n",
    "# Open and read the text file\n",
    "with open('Bronze.txt', 'r') as file:\n",
    "    for line in file:\n",
    "        # Strip whitespace and split the values using comma as delimiter\n",
    "        x, y = map(float, line.strip().strip('()').split(','))\n",
    "        x_list.append(x)\n",
    "        y_list.append(y)\n",
    "\n",
    "# Convert lists to numpy arrays\n",
    "x_vals = np.array(x_list)\n",
    "y_vals = np.array(y_list)"
   ]
  },
  {
   "cell_type": "code",
   "execution_count": 47,
   "id": "b544b298",
   "metadata": {},
   "outputs": [],
   "source": [
    "# GENERATE DATA FOR SYMBOLIC REGRESSION\n",
    "y = lambda x: (x-3.5)**2 -15\n",
    "\n",
    "y_vals_test = []\n",
    "\n",
    "for i in range(len(x_vals)):\n",
    "    y_vals_test.append(y(x_vals[i]))"
   ]
  },
  {
   "cell_type": "code",
   "execution_count": null,
   "id": "cb06331a",
   "metadata": {},
   "outputs": [],
   "source": []
  },
  {
   "cell_type": "code",
   "execution_count": null,
   "id": "ee64bf26",
   "metadata": {},
   "outputs": [],
   "source": []
  },
  {
   "cell_type": "code",
   "execution_count": null,
   "id": "2c4a796e",
   "metadata": {},
   "outputs": [],
   "source": [
    "    \n",
    "    def randomize_root_heap(self):\n",
    "        self.add_root(Node(random.choice(self.operator)))\n",
    "        typ = random.choice(self.non_operator)\n",
    "        self.add_child(0, Node(typ, value=random.uniform(0,5) if typ == 'const' else None))\n",
    "        typ = random.choice(self.non_operator)\n",
    "        self.add_child(0, Node(typ, value=random.uniform(0,5) if typ == 'const' else None))"
   ]
  },
  {
   "cell_type": "code",
   "execution_count": 22,
   "id": "315dfa3d",
   "metadata": {},
   "outputs": [
    {
     "name": "stdout",
     "output_type": "stream",
     "text": [
      "[1 2 3 None None None None]\n",
      "[1 2 3 None None None None None None None None None None None None]\n"
     ]
    }
   ],
   "source": [
    "def resize_binary_tree(tree, new_size):\n",
    "    \"\"\"Resize a binary tree represented as a numpy array without repeating values.\"\"\"\n",
    "    padding_size = new_size - tree.size\n",
    "    if padding_size < 0:\n",
    "        raise ValueError(\"New size should be greater than the current size.\")\n",
    "    return np.pad(tree, (0, padding_size), mode='constant', constant_values=None)\n",
    "\n",
    "# Example:\n",
    "tree = np.array([1, 2, 3, None, None, None, None])  # a binary tree with root and two child nodes\n",
    "print(tree)  # Before resize\n",
    "\n",
    "# Say we want to add another level. This means we need a total of 2^3 - 1 = 15 nodes.\n",
    "tree = resize_binary_tree(tree, 15)  \n",
    "print(tree)  # After resize"
   ]
  }
 ],
 "metadata": {
  "kernelspec": {
   "display_name": "Python 3",
   "language": "python",
   "name": "python3"
  },
  "language_info": {
   "codemirror_mode": {
    "name": "ipython",
    "version": 3
   },
   "file_extension": ".py",
   "mimetype": "text/x-python",
   "name": "python",
   "nbconvert_exporter": "python",
   "pygments_lexer": "ipython3",
   "version": "3.8.8"
  }
 },
 "nbformat": 4,
 "nbformat_minor": 5
}
