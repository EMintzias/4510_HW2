{
 "cells": [
  {
   "cell_type": "markdown",
   "id": "ade7f030",
   "metadata": {},
   "source": [
    "**Symbolic Regression**"
   ]
  },
  {
   "cell_type": "markdown",
   "id": "8d0dd801",
   "metadata": {},
   "source": [
    "____________"
   ]
  },
  {
   "cell_type": "code",
   "execution_count": 129,
   "id": "d7d79009",
   "metadata": {},
   "outputs": [],
   "source": [
    "import numpy as np\n",
    "import random\n",
    "import heapq as h\n",
    "import math\n",
    "import matplotlib.pyplot as plt\n",
    "import seaborn as sns"
   ]
  },
  {
   "cell_type": "code",
   "execution_count": 656,
   "id": "35de1473",
   "metadata": {},
   "outputs": [],
   "source": [
    "class Node:\n",
    "    # initalize Function_node with name, children\n",
    "    def __init__(self, function_name, value=None):\n",
    "        self.num_childs = 0\n",
    "        self.function_name = function_name\n",
    "        if self.function_name == 'const':\n",
    "            if value == None:\n",
    "                self.value = 0\n",
    "            else:\n",
    "                self.value = value\n",
    "        if self.function_name in ['*', '+', '-']:\n",
    "            self.req_num_childs = 2\n",
    "        else:\n",
    "            self.req_num_childs = 0\n",
    "    \n",
    "    def add_child(self):\n",
    "        self.num_childs += 1\n",
    "    \n",
    "    def can_add_child(self):\n",
    "        if self.num_childs < self.req_num_childs:\n",
    "            return True\n",
    "        else:\n",
    "            return False\n",
    "\n",
    "    def __str__(self):\n",
    "        if  self.function_name in ['const']:\n",
    "            return f\"{self.value}\"\n",
    "        else:\n",
    "            return f\"{self.function_name}\""
   ]
  },
  {
   "cell_type": "code",
   "execution_count": 786,
   "id": "fb18338f",
   "metadata": {},
   "outputs": [],
   "source": [
    "class Heap(Node):\n",
    "    \n",
    "    def __init__(self, length = 1):\n",
    "        self.heap   = np.full(length, None, dtype=object)\n",
    "        self.operator = ['*', '+', '-']\n",
    "        self.non_operator = ['x', 'const']\n",
    "    \n",
    "    \n",
    "    \n",
    "    def get_parent_idx(self, child_idx):\n",
    "        return (child_idx-1) // 2\n",
    "\n",
    "    def get_parent(self, child_idx):\n",
    "        parent_idx = self.get_parent_idx(child_idx)\n",
    "        return self.heap[parent_idx] \n",
    "    \n",
    "    def get_left_child_idx(self, parent_idx):\n",
    "        return 2 * parent_idx + 1\n",
    "\n",
    "    def get_right_child_idx(self, parent_idx):\n",
    "        return 2 * parent_idx + 2\n",
    "\n",
    "    def get_left_child(self, parent_idx):\n",
    "        left_child = self.heap[self.get_left_child_idx(parent_idx)]\n",
    "        return left_child\n",
    "\n",
    "    def get_right_child(self, parent_idx):\n",
    "        right_child = self.heap[self.get_right_child_idx(parent_idx)]\n",
    "        return right_child\n",
    "\n",
    "    def get_children_idx(self, parent_idx):\n",
    "        return 2 * parent_idx + 1, 2 * parent_idx + 2\n",
    "    \n",
    "    def get_children(self, parent_idx):\n",
    "        child_1_idx, child_2_idx = self.get_children_idx(parent_idx)\n",
    "        return self.heap[child_1_idx], self.heap[child_2_idx]\n",
    "    \n",
    "    def get_children_type(self, parent_idx):\n",
    "        L, R = self.get_children(parent_idx)\n",
    "        return type(L), type(R)\n",
    "    \n",
    "    \n",
    "    \n",
    "    \n",
    "    # EVALUATE A NODE\n",
    "    def evaluate(self, node_ind = 0, X = None): # tree root = 0\n",
    "        \n",
    "        # Evaluates a node given its index\n",
    "        def node_operation(operator, operand):\n",
    "            if   operator == '*':   return  operand[0] * operand[1]\n",
    "            elif operator == '+':   return  operand[0] + operand[1]\n",
    "            elif operator == '-':   return  operand[0] - operand[1]\n",
    "        \n",
    "        # MAIN LOOP\n",
    "        L_child, R_child = self.get_children(node_ind)\n",
    "        L_indx, R_indx   = self.get_children_idx(node_ind)\n",
    "        children_types   = self.get_children_type(node_ind)\n",
    "        \n",
    "        \n",
    "        #TODO: deal with NAN child if non trig or dual nan for operator leaf\n",
    "\n",
    "        #CHECKS left child\n",
    "        # If an operator, evaluate recursively returning a constant\n",
    "        # If X, assign it\n",
    "        if type(L_child) is None: # how to check for nan... dont ask why just go with it \n",
    "                #print(\"fuck yes\")\n",
    "                pass   \n",
    "        elif L_child.function_name in self.operator:\n",
    "            L_child.value = self.evaluate(node_ind = 2*node_ind + 1, X = X)\n",
    "            #L_child.function_name = 'const'\n",
    "            \n",
    "        elif L_child.function_name == 'x':\n",
    "            L_child.value = X\n",
    "            #L_child.function_name = 'const'\n",
    "        \n",
    "        \n",
    "        #TODO why the fuck is checking for nan = false same for right child: datatype issue, lesson: use None next time. \n",
    "        if type(R_child) is None: # dont ask why just go with it \n",
    "                #print(\"fuck yes\")\n",
    "                pass                       \n",
    "        elif R_child.function_name in self.operator: \n",
    "            R_child.value = self.evaluate(node_ind = 2*node_ind + 2, X = X)\n",
    "            #R_child.function_name = 'const' \n",
    "        elif R_child.function_name == 'x':\n",
    "            R_child.value = X\n",
    "            #R_child.function_name = 'const'\n",
    "        \n",
    "        \n",
    "        # terminating state: both children are constandts (floats) or Nan (with at least a constant) after being evaluated\n",
    "        node_operator = self.heap[node_ind].function_name\n",
    "        try: \n",
    "            if Node not in children_types: \n",
    "                raise TypeError(f\"Invalid children type for operator: {node_operator} \\n\\t L/R children are: {(L_child, R_child)}\")\n",
    "               \n",
    "            #elif node_operator in self.trig_operators: # i.e its sin, cos, tan etc (as defined above\n",
    "                \n",
    "            #    if float not in children_types:\n",
    "            #        raise ValueError(f\"Invalid children type for operator: {node_operator} \\n\\t L/R children are: {(L_child, R_child)}\")\n",
    "            #    elif not type(L_child) == float: \n",
    "            #        node_val = node_operation(node_operator,L_child.value)\n",
    "            #    elif R_child:\n",
    "            #        node_val = node_operation(node_operator,R_child.value)\n",
    "            \n",
    "            else:\n",
    "                node_val = node_operation(node_operator,(L_child.value, R_child.value))\n",
    "                \n",
    "        except ValueError as err_msg: \n",
    "            sys.exit()\n",
    "        \n",
    "        \n",
    "        \n",
    "        #DIAGNOSTIC\n",
    "        msg_out = (\n",
    "            f\"at the root evaluating with:\\n\\t - parent node index {node_ind}\"\n",
    "                f\"\\n\\t - operator {node_operator}\"\n",
    "                f\"\\n\\t - with children {[str(x) for x in self.heap[[L_indx, R_indx]]]}\"\n",
    "            f\"\\n result passed {node_val}\"\n",
    "                )\n",
    "        #print(msg_out)\n",
    "        return node_val\n",
    "    \n",
    "    \n",
    "    #TODO: Test the below (not run)\n",
    "    def MSE(self, point_cloud, plotting = False): \n",
    "        #RECALL: MSE = (1/n) * Σ(actual – forecast) ^2\n",
    "        X_arr  = point_cloud[:,0]\n",
    "        y      = point_cloud[:,1]\n",
    "        y_pred = np.array([self.evaluate(X = x) for x in X_arr])\n",
    "        MSE = np.mean((y_pred - y) ** 2)\n",
    "        #np.sum(np.square(y_pred-y)/y.shape[0])\n",
    "        \n",
    "        if plotting: \n",
    "            self.plot_approximation(X_arr,y_pred, y_true = y)\n",
    "            \n",
    "        return MSE\n",
    "    \n",
    "    \n",
    "    \n",
    "    \n",
    "    def get_depth(self):\n",
    "        return int(math.floor(math.log2(len(self.heap) + 1)))-1\n",
    "    \n",
    "    def has_root(self):\n",
    "        if self.heap[0] == None:\n",
    "            return False\n",
    "        else:\n",
    "            return True\n",
    "    \n",
    "    def add_root(self, new_node):\n",
    "        self.heap[0] = new_node\n",
    "    \n",
    "    def add_child(self, parent_idx, new_node):\n",
    "        #print(\"trying to add child for {}\".format(parent_idx))\n",
    "        # Check if parent can add child\n",
    "        # True if can_add_child\n",
    "        if self.heap[parent_idx].can_add_child():\n",
    "            # Keep track of added child in node\n",
    "            self.heap[parent_idx].add_child_count()\n",
    "            # Get child number [either 1 or 2 since we're adding above]\n",
    "            child_num = self.heap[parent_idx].num_childs\n",
    "            # Check if we can add child\n",
    "            if 2*parent_idx+child_num < len(self.heap):\n",
    "                self.heap[2*parent_idx+child_num] = new_node\n",
    "            # Resize if needed\n",
    "            else:\n",
    "                prev_n = len(self.heap)\n",
    "                prev_heap = self.heap\n",
    "                # Create new heap that is 'full' to depth where new child will be\n",
    "                self.heap = np.full(2**(math.floor(math.log2(2*parent_idx+child_num + 1))+1)-1, None, dtype=object)\n",
    "                self.heap[:prev_n] = prev_heap\n",
    "                self.heap[2*parent_idx+child_num] = new_node\n",
    "        # Can't add child\n",
    "        else:\n",
    "            # What to do here?\n",
    "            #print(\"can't add child\")\n",
    "            pass\n",
    "        \n",
    "        \n",
    "    def randomize_heap(self, parent_idx=0):\n",
    "        # Check if heap has root\n",
    "        if self.has_root() == False:\n",
    "            # Add operator rood node if not\n",
    "            # ******* WILL MAYBE WANT TO CHANGE ********\n",
    "            self.add_root(Node(random.choice(self.operator)))\n",
    "        \n",
    "        #print(\"...\")\n",
    "        #print(\"Depth:{}\\nTree: \\n{}\".format(self.get_depth(), self.__str__()))\n",
    "        \n",
    "        \n",
    "        # Kepp adding subtrees up to depth = 1\n",
    "        if self.get_depth() < 1:\n",
    "            # Add random nodes until sub tree is full\n",
    "            while self.heap[parent_idx].can_add_child():\n",
    "                typ = random.choice(self.non_operator) if random.randint(0,1) < 1 else random.choice(self.operator)\n",
    "                self.add_child(parent_idx, Node(typ, value = random.uniform(0,5) if typ == 'const' else None))\n",
    "        \n",
    "        \n",
    "            # Recursively add random subtrees for all children\n",
    "            # If subtree is a non_operator it will not loop as num_childs = 0\n",
    "            for i in range(self.heap[parent_idx].num_childs):\n",
    "                self.randomize_heap(2*parent_idx + (i+1))\n",
    "        \n",
    "        # Make sure all operators required number of operands\n",
    "        # Thus max depth of tree = 2\n",
    "        else:\n",
    "            # Add random operands for all children that require them\n",
    "            while self.heap[parent_idx].can_add_child():\n",
    "                typ = random.choice(self.non_operator)\n",
    "                self.add_child(parent_idx, Node(typ, value = random.uniform(0,5) if typ == 'const' else None))\n",
    "            #for i in range(self.heap[parent_idx].num_childs):\n",
    "            #    typ = random.choice(self.non_operator)\n",
    "            #    self.add_child(2*parent_idx + (i+1), Node(typ, value=random.uniform(0,5) if typ == 'const' else None))  \n",
    "    \n",
    "    \n",
    "    # GPT-4\n",
    "    def print_heap_tree(self, index=0, prefix=\"\", is_left=True):\n",
    "        output = \"\"\n",
    "        if index < len(self.heap) and self.heap[index] is not None:\n",
    "            # Process right child first (going down)\n",
    "            output += self.print_heap_tree(index=2*index+2, prefix=prefix + (\"|   \" if is_left else \"    \"), is_left=False)\n",
    "            # Add the current node to the output\n",
    "            output += prefix + \"|-- \" + str(self.heap[index]) + \"\\n\"\n",
    "            # Process left child\n",
    "            output += self.print_heap_tree(index=2*index+1, prefix=prefix + (\"|   \" if not is_left else \"    \"), is_left=True)\n",
    "        # else:\n",
    "            # Indicate the absence of a node with [...]\n",
    "            # output += prefix + \"|-- [...]\\n\"\n",
    "        return output\n",
    "\n",
    "    def __str__(self):\n",
    "        return self.print_heap_tree()\n"
   ]
  },
  {
   "cell_type": "code",
   "execution_count": 796,
   "id": "92c1ea2b",
   "metadata": {},
   "outputs": [
    {
     "name": "stdout",
     "output_type": "stream",
     "text": [
      "-------------\n",
      "2\n",
      "|       |-- 4.591484896988459\n",
      "|   |-- +\n",
      "|   |   |-- 4.311999606219064\n",
      "|-- -\n",
      "    |-- x\n",
      "\n"
     ]
    }
   ],
   "source": [
    "rand_h = Heap()\n",
    "rand_h.randomize_heap()\n",
    "\n",
    "print(\"-------------\")\n",
    "\n",
    "print(rand_h.get_depth())\n",
    "print(rand_h)"
   ]
  },
  {
   "cell_type": "code",
   "execution_count": 801,
   "id": "c9116023",
   "metadata": {},
   "outputs": [
    {
     "data": {
      "text/plain": [
       "(<__main__.Node at 0x7fcf493c4ee0>, <__main__.Node at 0x7fcf493c43d0>)"
      ]
     },
     "execution_count": 801,
     "metadata": {},
     "output_type": "execute_result"
    }
   ],
   "source": [
    "rand_h.get_children(0)"
   ]
  },
  {
   "cell_type": "code",
   "execution_count": 787,
   "id": "0adeac7d",
   "metadata": {},
   "outputs": [],
   "source": [
    "# OPEN DATA FILE FOR X VALUES\n",
    "x_list = []\n",
    "with open('Bronze.txt', 'r') as file:\n",
    "    for line in file:\n",
    "        x, y = map(float, line.strip().strip('()').split(','))\n",
    "        x_list.append(x)\n",
    "x_arr = np.array(x_list)\n",
    "        \n",
    "# GENERATE DATA FOR RANDOM AFFINE FUNCTION (y = 0.5x - 3)\n",
    "y_list = []\n",
    "\n",
    "m = 0.5 #random.uniform(0,3)\n",
    "b = 3 #random.uniform(0,3)\n",
    "sign = -1 #random.choice([1, -1])\n",
    "y = lambda x: m*x + sign*b\n",
    "for i in range(len(x_arr)):\n",
    "    y_list.append(y(x_arr[i]))\n",
    "y_arr = np.array(y_list)"
   ]
  },
  {
   "cell_type": "code",
   "execution_count": 793,
   "id": "2dfab695",
   "metadata": {},
   "outputs": [
    {
     "name": "stdout",
     "output_type": "stream",
     "text": [
      "|   |-- 3.510642671544808\n",
      "|-- -\n",
      "    |   |-- 0.7506122776473545\n",
      "    |-- *\n",
      "        |-- x\n",
      "\n"
     ]
    }
   ],
   "source": [
    "# for 100 generations\n",
    "# for a population of 10 random heaps\n",
    "# evaluate heap\n",
    "# keep track of best performing one\n",
    "\n",
    "evaluations = 100\n",
    "population = 10\n",
    "\n",
    "best_heaps_list = np.full(evaluations, None, dtype=object)\n",
    "best_mse = []\n",
    "\n",
    "for i in range(evaluations):\n",
    "    current_best_heap = None\n",
    "    current_best_mse = np.inf\n",
    "    for j in range(population):\n",
    "        h = Heap()\n",
    "        h.randomize_heap()\n",
    "        mse = h.MSE(point_cloud=np.array([x_arr, y_arr]).T)\n",
    "        if mse < current_best_mse:\n",
    "            current_best_mse = mse\n",
    "            current_best_heap = h\n",
    "    best_heaps_list[i] = current_best_heap\n",
    "    best_mse.append(current_best_mse)\n",
    "\n",
    "print(best_heaps_list[np.argmin(best_mse)])"
   ]
  },
  {
   "cell_type": "code",
   "execution_count": 794,
   "id": "c3d193b2",
   "metadata": {},
   "outputs": [
    {
     "data": {
      "image/png": "[encoded data removed]",
      "text/plain": [
       "<Figure size 720x720 with 1 Axes>"
      ]
     },
     "metadata": {
      "needs_background": "light"
     },
     "output_type": "display_data"
    },
    {
     "name": "stdout",
     "output_type": "stream",
     "text": [
      "MSE: 1.075620992367308\n"
     ]
    }
   ],
   "source": [
    "# GENERATE DATA FOR OUR RANDOM HEAP\n",
    "y_list = []\n",
    "for i in range(len(x_arr)):\n",
    "    y_list.append(best_heaps_list[np.argmin(best_mse)].evaluate(X=x_arr[i]))\n",
    "y_heap = np.array(y_list)\n",
    "\n",
    "\n",
    "# Plotting the line graph\n",
    "plt.figure(figsize=(10, 10))\n",
    "plt.xlim(0, 10)\n",
    "plt.ylim(-5, 5)\n",
    "plt.plot(x_arr, y_rand, '-', label='Random Affine', color='blue')\n",
    "plt.plot(x_arr, y_heap, '-', label='Heap Function', color='red')\n",
    "plt.title('Random Affine: y = {:.2g}x {} {:.2g}'.format(m, '+' if sign > 0 else '-', b))\n",
    "plt.xlabel('X')\n",
    "plt.ylabel('Y')\n",
    "plt.legend()\n",
    "plt.grid(True)\n",
    "plt.show()\n",
    "\n",
    "print('MSE: {}'.format(best_mse[np.argmin(best_mse)]))"
   ]
  },
  {
   "cell_type": "code",
   "execution_count": 759,
   "id": "01c5766b",
   "metadata": {},
   "outputs": [
    {
     "name": "stdout",
     "output_type": "stream",
     "text": [
      "...\n",
      "Depth:0\n",
      "Tree: \n",
      "|-- +\n",
      "\n",
      "...\n",
      "Depth:1\n",
      "Tree: \n",
      "|   |-- x\n",
      "|-- +\n",
      "    |-- x\n",
      "\n",
      "...\n",
      "Depth:1\n",
      "Tree: \n",
      "|   |-- x\n",
      "|-- +\n",
      "    |-- x\n",
      "\n",
      "-------------\n",
      "1\n",
      "|   |-- x\n",
      "|-- +\n",
      "    |-- x\n",
      "\n"
     ]
    }
   ],
   "source": [
    "rand_h = Heap()\n",
    "rand_h.randomize_heap()\n",
    "\n",
    "print(\"-------------\")\n",
    "\n",
    "print(rand_h.get_depth())\n",
    "print(rand_h)"
   ]
  },
  {
   "cell_type": "code",
   "execution_count": 664,
   "id": "a9ace787",
   "metadata": {},
   "outputs": [
    {
     "data": {
      "text/plain": [
       "115.58473960513469"
      ]
     },
     "execution_count": 664,
     "metadata": {},
     "output_type": "execute_result"
    }
   ],
   "source": [
    "rand_h.evaluate(0, 5)"
   ]
  },
  {
   "cell_type": "code",
   "execution_count": 211,
   "id": "1f59ce2c",
   "metadata": {},
   "outputs": [],
   "source": [
    "# Node can be one of the following:\n",
    "# ['*', '+', '-', 'x', 'const']\n",
    "\n",
    "# '*' has 2 children\n",
    "# '+' has 2 children\n",
    "# '-' has 2 children\n",
    "# 'x' has 0 children\n",
    "# 'const' has a value & 0 children"
   ]
  },
  {
   "cell_type": "code",
   "execution_count": 760,
   "id": "77cec2f4",
   "metadata": {},
   "outputs": [
    {
     "data": {
      "image/png": "[encoded data removed]",
      "text/plain": [
       "<Figure size 720x720 with 1 Axes>"
      ]
     },
     "metadata": {
      "needs_background": "light"
     },
     "output_type": "display_data"
    },
    {
     "name": "stdout",
     "output_type": "stream",
     "text": [
      "MSE: 129.0375376876879, 129.03753768768786\n"
     ]
    }
   ],
   "source": [
    "# OPEN DATA FILE FOR X VALUES\n",
    "x_list = []\n",
    "with open('Bronze.txt', 'r') as file:\n",
    "    for line in file:\n",
    "        x, y = map(float, line.strip().strip('()').split(','))\n",
    "        x_list.append(x)\n",
    "x_arr = np.array(x_list)\n",
    "        \n",
    "# GENERATE DATA FOR RANDOM AFFINE FUNCTION (y = 0.5x - 3)\n",
    "y_list = []\n",
    "\n",
    "m = 0.5 #random.uniform(0,3)\n",
    "b = 3 #random.uniform(0,3)\n",
    "sign = -1 #random.choice([1, -1])\n",
    "y = lambda x: m*x + sign*b\n",
    "for i in range(len(x_arr)):\n",
    "    y_list.append(y(x_arr[i]))\n",
    "y_rand = np.array(y_list)\n",
    "\n",
    "\n",
    "# GENERATE DATA FOR OUR RANDOM HEAP\n",
    "y_list = []\n",
    "for i in range(len(x_arr)):\n",
    "    y_list.append(rand_h.evaluate(X=x_arr[i]))\n",
    "y_heap = np.array(y_list)\n",
    "\n",
    "\n",
    "# Plotting the line graph\n",
    "plt.figure(figsize=(10, 10))\n",
    "plt.xlim(0, 10)\n",
    "plt.ylim(-5, 5)\n",
    "plt.plot(x_arr, y_rand, '-', label='Random Affine', color='blue')\n",
    "plt.plot(x_arr, y_heap, '-', label='Heap Function', color='red')\n",
    "plt.title('Random Affine: y = {:.2g}x {} {:.2g}'.format(m, '+' if sign > 0 else '-', b))\n",
    "plt.xlabel('X')\n",
    "plt.ylabel('Y')\n",
    "plt.legend()\n",
    "plt.grid(True)\n",
    "plt.show()\n",
    "\n",
    "mse1 = np.sum(np.square(y_heap-y_rand)/y_rand.shape[0])\n",
    "mse2 = np.mean((y_heap - y_rand) ** 2)\n",
    "\n",
    "print('MSE: {}, {}'.format(mse1, mse2))"
   ]
  },
  {
   "cell_type": "code",
   "execution_count": null,
   "id": "0d5d7d6b",
   "metadata": {},
   "outputs": [],
   "source": []
  },
  {
   "cell_type": "code",
   "execution_count": null,
   "id": "e403a823",
   "metadata": {},
   "outputs": [],
   "source": []
  },
  {
   "cell_type": "code",
   "execution_count": null,
   "id": "c6129614",
   "metadata": {},
   "outputs": [],
   "source": []
  },
  {
   "cell_type": "code",
   "execution_count": null,
   "id": "6858d201",
   "metadata": {},
   "outputs": [],
   "source": []
  },
  {
   "cell_type": "code",
   "execution_count": 78,
   "id": "3aa72f22",
   "metadata": {},
   "outputs": [],
   "source": [
    "# LOAD HW2 BRONZE DATA\n",
    "# Initialize lists to store x and y values\n",
    "x_list = []\n",
    "y_list = []\n",
    "\n",
    "# Open and read the text file\n",
    "with open('Bronze.txt', 'r') as file:\n",
    "    for line in file:\n",
    "        # Strip whitespace and split the values using comma as delimiter\n",
    "        x, y = map(float, line.strip().strip('()').split(','))\n",
    "        x_list.append(x)\n",
    "        y_list.append(y)\n",
    "\n",
    "# Convert lists to numpy arrays\n",
    "x_vals = np.array(x_list)\n",
    "y_vals = np.array(y_list)"
   ]
  },
  {
   "cell_type": "code",
   "execution_count": 47,
   "id": "b544b298",
   "metadata": {},
   "outputs": [],
   "source": [
    "# GENERATE DATA FOR SYMBOLIC REGRESSION\n",
    "y = lambda x: (x-3.5)**2 -15\n",
    "\n",
    "y_vals_test = []\n",
    "\n",
    "for i in range(len(x_vals)):\n",
    "    y_vals_test.append(y(x_vals[i]))"
   ]
  },
  {
   "cell_type": "code",
   "execution_count": null,
   "id": "cb06331a",
   "metadata": {},
   "outputs": [],
   "source": []
  },
  {
   "cell_type": "code",
   "execution_count": null,
   "id": "ee64bf26",
   "metadata": {},
   "outputs": [],
   "source": []
  },
  {
   "cell_type": "code",
   "execution_count": null,
   "id": "2c4a796e",
   "metadata": {},
   "outputs": [],
   "source": [
    "    \n",
    "    def randomize_root_heap(self):\n",
    "        self.add_root(Node(random.choice(self.operator)))\n",
    "        typ = random.choice(self.non_operator)\n",
    "        self.add_child(0, Node(typ, value=random.uniform(0,5) if typ == 'const' else None))\n",
    "        typ = random.choice(self.non_operator)\n",
    "        self.add_child(0, Node(typ, value=random.uniform(0,5) if typ == 'const' else None))"
   ]
  },
  {
   "cell_type": "code",
   "execution_count": 22,
   "id": "80c4f3c7",
   "metadata": {},
   "outputs": [
    {
     "name": "stdout",
     "output_type": "stream",
     "text": [
      "[1 2 3 None None None None]\n",
      "[1 2 3 None None None None None None None None None None None None]\n"
     ]
    }
   ],
   "source": [
    "def resize_binary_tree(tree, new_size):\n",
    "    \"\"\"Resize a binary tree represented as a numpy array without repeating values.\"\"\"\n",
    "    padding_size = new_size - tree.size\n",
    "    if padding_size < 0:\n",
    "        raise ValueError(\"New size should be greater than the current size.\")\n",
    "    return np.pad(tree, (0, padding_size), mode='constant', constant_values=None)\n",
    "\n",
    "# Example:\n",
    "tree = np.array([1, 2, 3, None, None, None, None])  # a binary tree with root and two child nodes\n",
    "print(tree)  # Before resize\n",
    "\n",
    "# Say we want to add another level. This means we need a total of 2^3 - 1 = 15 nodes.\n",
    "tree = resize_binary_tree(tree, 15)  \n",
    "print(tree)  # After resize"
   ]
  }
 ],
 "metadata": {
  "kernelspec": {
   "display_name": "Python 3",
   "language": "python",
   "name": "python3"
  },
  "language_info": {
   "codemirror_mode": {
    "name": "ipython",
    "version": 3
   },
   "file_extension": ".py",
   "mimetype": "text/x-python",
   "name": "python",
   "nbconvert_exporter": "python",
   "pygments_lexer": "ipython3",
   "version": "3.8.8"
  }
 },
 "nbformat": 4,
 "nbformat_minor": 5
}
